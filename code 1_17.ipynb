{
 "cells": [
  {
   "cell_type": "markdown",
   "metadata": {},
   "source": [
    "# 王子老师课件1.17问题(Armington模型)的计算"
   ]
  },
  {
   "cell_type": "markdown",
   "metadata": {},
   "source": [
    "在国家n上消费者效用最大化问题的拉格朗日方程：  \n",
    "$\\max_{C_{in}, L_n}\\left[\\sum_{i=1}^{N}C_{in}^{\\frac{\\sigma-1}{\\sigma}}\\right]^{\\frac{\\sigma}{\\sigma-1}}-\\frac{L_n^{1+\\eta}}{1+\\eta} + \\lambda_n\\left(w_nL_n - \\sum_{i=1}^{N}P_{in}C_{in}\\right)$  \n",
    "一阶条件如下：  \n",
    "$\\left[\\sum_{i=1}^{N}C_{in}^{\\frac{\\sigma-1}{\\sigma}}\\right]^{\\frac{1}{\\sigma-1}}C_{in}^{-\\frac{1}{\\sigma}} = \\lambda_{n}P_{in} \\Rightarrow \\left[\\sum_{i=1}^{N}C_{in}^{\\frac{\\sigma-1}{\\sigma}}\\right]^{-1}C_{in}^{\\frac{\\sigma-1}{\\sigma}} = \\lambda_{n}^{1-\\sigma}P_{in}^{1-\\sigma} \\Rightarrow \\lambda_n = \\frac{1}{P_n}$  \n",
    "其中价格指数$P_n = \\left[\\sum_{i=1}^{N}P_{in}^{1-\\sigma}\\right]^{\\frac{1}{1-\\sigma}}$，实际工资水平$L_n^\\eta = \\lambda_nw_n$  \n",
    "\n",
    "在均衡时，国家i的总成本（工资支出）=国家i的总收益（国家i卖给其他国家的产品销售额）： \n",
    "$w_iL_i = \\sum_{i=1}^{N}\\frac{w_i^{1-\\sigma}\\left(\\frac{\\tau_{in}}{A_i}\\right)^{1-\\sigma}}{P_n^{1-\\sigma}}w_nL_n \\Rightarrow w_i\\left(\\frac{w_i}{P_i}\\right)^{\\frac{1}{\\eta}}= \\sum_{i=1}^{N}\\frac{w_i^{1-\\sigma}\\left(\\frac{\\tau_{in}}{A_i}\\right)^{1-\\sigma}}{P_n^{1-\\sigma}}w_n\\left(\\frac{w_n}{P_n}\\right)^{\\frac{1}{\\eta}}$  \n",
    "其中，$P_n = \\left[\\sum_{i=1}^{N}w_i^{1-\\sigma}\\left(\\frac{\\tau_{in}}{A_i}\\right)^{1-\\sigma}\\right]^{\\frac{1}{1-\\sigma}}$  \n",
    "\n",
    "均衡时的效用水平：$U_{i}=\\frac{\\eta}{1+\\eta}\\left(\\frac{w_{i}}{P_{i}}\\right)^{\\frac{1+\\eta}{\\eta}}$\n"
   ]
  },
  {
   "cell_type": "markdown",
   "metadata": {},
   "source": [
    "下面计算习题1.15中三个国家模型的情况"
   ]
  },
  {
   "cell_type": "code",
   "execution_count": 100,
   "metadata": {},
   "outputs": [],
   "source": [
    "using Parameters\n",
    "using LinearAlgebra, Statistics, Compat\n",
    "using NLsolve,Plots,BenchmarkTools"
   ]
  },
  {
   "cell_type": "markdown",
   "metadata": {},
   "source": [
    "## baseline"
   ]
  },
  {
   "cell_type": "code",
   "execution_count": 73,
   "metadata": {},
   "outputs": [
    {
     "data": {
      "text/plain": [
       "(N = 3, sigma = 4, eta = 2, A = [3, 2, 1], tau = [1.0 2.0 2.0; 2.0 1.0 2.0; 2.0 2.0 1.0])"
      ]
     },
     "execution_count": 73,
     "metadata": {},
     "output_type": "execute_result"
    }
   ],
   "source": [
    "#将已知条件放入结构m中，方便后面进行调用\n",
    "E = Matrix{Float64}(I, 3, 3);\n",
    "mdef = @with_kw (N = 3,sigma = 4,eta = 2,A = [3;2;1],tau = 2*(1 .- E)+E)\n",
    "m = mdef() "
   ]
  },
  {
   "cell_type": "markdown",
   "metadata": {},
   "source": [
    "## Equilibrium computation"
   ]
  },
  {
   "cell_type": "code",
   "execution_count": 4,
   "metadata": {},
   "outputs": [
    {
     "data": {
      "text/plain": [
       "update_eqm (generic function with 1 method)"
      ]
     },
     "execution_count": 4,
     "metadata": {},
     "output_type": "execute_result"
    }
   ],
   "source": [
    "function update_eqm(w,m)\n",
    "    #w和m.A都是N维（这里假设是3维）列向量，点除之后得到各个国家w和A的比值。\n",
    "    #再将此N维列向量复制N次，得到N*N的矩阵，并且a_i1 = a_i2 = ……=a_in=wi/Ai。\n",
    "    #repeat得到的N*N的矩阵，与tau进行点乘（注意，不是相乘，是点乘）。\n",
    "    P_mat = repeat((w./m.A).^(1-m.sigma),1,m.N).*m.tau.^float((1-m.sigma)); \n",
    "    #将得到的P_mat的元素纵向相加（也就是把各个国家加总到一起）得到一个1*N的行向量，再转置为列向量。\n",
    "    P = (sum(P_mat,dims=1)').^(1/(1-m.sigma));\n",
    "    #根据公式计算实际工资水平L（一个列向量）。\n",
    "    L = (w./P).^(1/m.eta);\n",
    "    #\n",
    "    w_new = sum(P_mat.*repeat((P').^(m.sigma-1).*(w.*L)',m.N,1),dims=2)./L;\n",
    "    return (w_new,P,L)\n",
    "end"
   ]
  },
  {
   "cell_type": "code",
   "execution_count": 15,
   "metadata": {},
   "outputs": [],
   "source": [
    "w = ones(m.N,1);#初始猜想，后面对w进行更新\n",
    "ww = 0.1;\n",
    "cc = 1;#统计迭代次数\n",
    "tol = 1e-6;\n",
    "diff = 1;"
   ]
  },
  {
   "cell_type": "code",
   "execution_count": 8,
   "metadata": {},
   "outputs": [
    {
     "data": {
      "text/plain": [
       "([1.6893899351166863; 0.9008186721810948; 0.20424112607226133], [0.328828276577396; 0.4430309359830305; 0.5708743241637889], [1.7438752816032173; 1.5023910002848795; 1.3235176727922306])"
      ]
     },
     "execution_count": 8,
     "metadata": {},
     "output_type": "execute_result"
    }
   ],
   "source": [
    "w_new, P, L = update_eqm(w, m)#测试方程能否正常运行"
   ]
  },
  {
   "cell_type": "code",
   "execution_count": 16,
   "metadata": {},
   "outputs": [
    {
     "name": "stdout",
     "output_type": "stream",
     "text": [
      "1.057510096340859\n",
      "1\n",
      "0.28243175767533457\n",
      "2\n",
      "0.6766015289640255\n",
      "3\n",
      "0.18323247074176557\n",
      "4\n",
      "0.44109626486593234\n",
      "5\n",
      "0.1195312380175981\n",
      "6\n",
      "0.2872354617448506\n",
      "7\n",
      "0.07757304001566308\n",
      "8\n",
      "0.18559011814494178\n",
      "9\n",
      "0.04988147096447339\n",
      "10\n",
      "0.11878693051829128\n",
      "11\n",
      "0.03179948088107833\n",
      "12\n",
      "0.07549963084732986\n",
      "13\n",
      "0.02017446366528618\n",
      "14\n",
      "0.04787049652608195\n",
      "15\n",
      "0.012799197553447422\n",
      "16\n",
      "0.030421056985139538\n",
      "17\n",
      "0.00815486347433439\n",
      "18\n",
      "0.019447494583545256\n",
      "19\n",
      "0.005233758632851787\n",
      "20\n",
      "0.012535681190976573\n",
      "21\n",
      "0.0033892077069734025\n",
      "22\n",
      "0.008156173270733385\n",
      "23\n",
      "0.0022156126723317667\n",
      "24\n",
      "0.005356739606190323\n",
      "25\n",
      "0.0014616872810519332\n",
      "26\n",
      "0.003549039166085971\n",
      "27\n",
      "0.0009722991094867842\n",
      "28\n",
      "0.0023695500411078244\n",
      "29\n",
      "0.0006513788700465637\n",
      "30\n",
      "0.0015923787463219122\n",
      "31\n",
      "0.0004389665405269908\n",
      "32\n",
      "0.001075813762086979\n",
      "33\n",
      "0.00029723353380520977\n",
      "34\n",
      "0.0007299111357735384\n",
      "35\n",
      "0.00020202114572264216\n",
      "36\n",
      "0.0004968711232755215\n",
      "37\n",
      "0.00013770916151628761\n",
      "38\n",
      "0.0003391001950610822\n",
      "39\n",
      "9.408047504964251e-5\n",
      "40\n",
      "0.0002318775439535337\n",
      "41\n",
      "6.438320709149632e-5\n",
      "42\n",
      "0.00015879212154223238\n",
      "43\n",
      "4.411642715986942e-5\n",
      "44\n",
      "0.00010886279259500287\n",
      "45\n",
      "3.025822328412038e-5\n",
      "46\n",
      "7.46945378528336e-5\n",
      "47\n",
      "2.0768075658345276e-5\n",
      "48\n",
      "5.1282047078673006e-5\n",
      "49\n",
      "1.4261963176993091e-5\n",
      "50\n",
      "3.522411892685151e-5\n",
      "51\n",
      "9.797900659645005e-6\n",
      "52\n",
      "2.4202584747772497e-5\n",
      "53\n",
      "6.733068076578402e-6\n",
      "54\n",
      "1.663381529775885e-5\n",
      "55\n",
      "4.627923898920068e-6\n",
      "56\n",
      "1.1434102104989974e-5\n",
      "57\n",
      "3.18147230667776e-6\n",
      "58\n",
      "7.86088138578586e-6\n",
      "59\n",
      "2.1873621176489845e-6\n",
      "60\n",
      "5.404852073028166e-6\n",
      "61\n",
      "1.5040089536922996e-6\n",
      "62\n",
      "3.7164496547565995e-6\n",
      "63\n",
      "1.034206963665268e-6\n",
      "64\n",
      "2.5556187783114967e-6\n",
      "65\n",
      "7.11188128323797e-7\n",
      "66\n"
     ]
    }
   ],
   "source": [
    "while diff > tol && cc < 500\n",
    "    w_new, P, L = update_eqm(w, m)\n",
    "    diff = norm(w_new-w)\n",
    "    println(diff)\n",
    "    println(cc)\n",
    "    #不能直接将产生的w_new赋给w（w = w_new)，需要将产生的w_new进行线性组合，赋给w；\n",
    "    #再将新的w中的元素求平方和，用w除以此平方和，将w限制在单位圆中，以此得到解析解。\n",
    "    w = ww*w_new + (1-ww)*w\n",
    "    wn = w'*w\n",
    "    w = w/wn\n",
    "\n",
    "    cc = cc+1\n",
    "end"
   ]
  },
  {
   "cell_type": "code",
   "execution_count": 23,
   "metadata": {},
   "outputs": [
    {
     "name": "stdout",
     "output_type": "stream",
     "text": [
      "Array{Float64,2}[[1.3133222365155153; 0.9637977034586899; 0.571123712167417], [0.14022142510428653; 0.15045274786668308; 0.16796691399984937], [1.7728717874115878; 1.4661952501013615; 1.068198902400013], [19.109271127591903; 10.809046508239833; 4.179924273811371]]\n"
     ]
    }
   ],
   "source": [
    "welfare = m.eta/(1+m.eta)*(w./P).^((1+m.eta)/m.eta);\n",
    "println([w,P,L,welfare])#输出求出的解析解"
   ]
  },
  {
   "cell_type": "markdown",
   "metadata": {},
   "source": [
    "## 比较静态"
   ]
  },
  {
   "cell_type": "markdown",
   "metadata": {},
   "source": [
    "Welfare gains from trade liberalization。让m.tau逐渐变小。"
   ]
  },
  {
   "cell_type": "code",
   "execution_count": 74,
   "metadata": {},
   "outputs": [],
   "source": [
    "tt_vec = (2:-0.1:1)';#贸易冰山成本的参数变化：从2降到1，步长为0.1\n",
    "T = length(tt_vec);#一共进行T步\n",
    "welfare_mat = ones(m.N, T);#预先把welfare和L放到N*T的矩阵当中，预先都先设定为1，后面会进行替换\n",
    "L_mat = ones(m.N, T);"
   ]
  },
  {
   "cell_type": "code",
   "execution_count": 75,
   "metadata": {},
   "outputs": [
    {
     "name": "stdout",
     "output_type": "stream",
     "text": [
      "Any[[2.0 1.9 1.8 1.7 1.6 1.5 1.4 1.3 1.2 1.1 1.0], 11, [1.0 1.0 1.0 1.0 1.0 1.0 1.0 1.0 1.0 1.0 1.0; 1.0 1.0 1.0 1.0 1.0 1.0 1.0 1.0 1.0 1.0 1.0; 1.0 1.0 1.0 1.0 1.0 1.0 1.0 1.0 1.0 1.0 1.0], [1.0 1.0 1.0 1.0 1.0 1.0 1.0 1.0 1.0 1.0 1.0; 1.0 1.0 1.0 1.0 1.0 1.0 1.0 1.0 1.0 1.0 1.0; 1.0 1.0 1.0 1.0 1.0 1.0 1.0 1.0 1.0 1.0 1.0]]\n"
     ]
    }
   ],
   "source": [
    "println([tt_vec,T,welfare_mat,L_mat])"
   ]
  },
  {
   "cell_type": "code",
   "execution_count": 76,
   "metadata": {},
   "outputs": [
    {
     "name": "stdout",
     "output_type": "stream",
     "text": [
      "7.11188128323797e-7\n",
      "67\n",
      "1\n",
      "8.964223648461899e-7\n",
      "59\n",
      "2\n",
      "8.67667902062871e-7\n",
      "53\n",
      "3\n",
      "9.836829564502164e-7\n",
      "47\n",
      "4\n",
      "7.488464941641606e-7\n",
      "43\n",
      "5\n",
      "6.535978951286008e-7\n",
      "39\n",
      "6\n",
      "7.160322777176127e-7\n",
      "35\n",
      "7\n",
      "4.490127305163348e-7\n",
      "33\n",
      "8\n",
      "3.795343542403554e-7\n",
      "31\n",
      "9\n",
      "4.6302372056397923e-7\n",
      "29\n",
      "10\n",
      "7.645578863502451e-7\n",
      "27\n",
      "11\n"
     ]
    }
   ],
   "source": [
    "for t in 1:T \n",
    "    m = mdef(tau = tt_vec[t]*(1 .-E) + E)#每次对m进行更新\n",
    "    \n",
    "    w = ones(m.N,1); # Initial guess\n",
    "    ww = 0.1;\n",
    "    cc = 1;\n",
    "    tol = 1e-6;\n",
    "    diff = 1;#除了tau以外，其他的baseline不变。\n",
    "    \n",
    "    while diff > tol && cc < 500\n",
    "        w_new, P, L = update_eqm(w, m);#调用了更新后的m\n",
    "        diff = norm(w_new-w);\n",
    "                \n",
    "        w = ww*w_new + (1-ww)*w;\n",
    "        wn = w'*w;\n",
    "        w = w/wn;\n",
    "        \n",
    "        cc = cc+1;\n",
    "    end\n",
    "    \n",
    "    println(diff)\n",
    "    println(cc)#给定m，算出解析解的迭代次数是否超过了开始时设定的500次，如果大于或等于了500次，就要提高求解的最大的迭代次数\n",
    "    println(t)\n",
    "    \n",
    "    welfare_mat[:,t] = m.eta/(1 .+m.eta)*(w./P).^((1 .+m.eta)/m.eta);#一共有N行T列，每计算一次，对 welfare_mat的第t列进行替换\n",
    "    L_mat[:,t] = L;\n",
    "\n",
    "end"
   ]
  },
  {
   "cell_type": "code",
   "execution_count": 77,
   "metadata": {},
   "outputs": [
    {
     "data": {
      "text/plain": [
       "11×3 Adjoint{Float64,Array{Float64,2}}:\n",
       " 19.1093  10.809   4.17992\n",
       " 19.3137  10.9879  4.30291\n",
       " 19.561   11.2059  4.45349\n",
       " 19.8622  11.4738  4.63949\n",
       " 20.2314  11.8061  4.87137\n",
       " 20.6877  12.2225  5.16331\n",
       " 21.2564  12.7505  5.53462\n",
       " 21.9723  13.4287  6.01194\n",
       " 22.8834  14.3128  6.63226\n",
       " 24.0584  15.4841  7.4476 \n",
       " 25.5974  17.0649  8.53246"
      ]
     },
     "execution_count": 77,
     "metadata": {},
     "output_type": "execute_result"
    }
   ],
   "source": [
    "welfare_mat = welfare_mat'#转置后，每一个列向量表示一个国家的福利变化"
   ]
  },
  {
   "cell_type": "code",
   "execution_count": 92,
   "metadata": {},
   "outputs": [
    {
     "data": {
      "text/plain": [
       "11×3 Array{Float64,2}:\n",
       " 19.1093  10.809  4.17992\n",
       " 19.1093  10.809  4.17992\n",
       " 19.1093  10.809  4.17992\n",
       " 19.1093  10.809  4.17992\n",
       " 19.1093  10.809  4.17992\n",
       " 19.1093  10.809  4.17992\n",
       " 19.1093  10.809  4.17992\n",
       " 19.1093  10.809  4.17992\n",
       " 19.1093  10.809  4.17992\n",
       " 19.1093  10.809  4.17992\n",
       " 19.1093  10.809  4.17992"
      ]
     },
     "execution_count": 92,
     "metadata": {},
     "output_type": "execute_result"
    }
   ],
   "source": [
    "#计算welfare_mat相对初始时期的变化，要使welfare_mat的每一行除以第一行。\n",
    "#将welfare_mat的第一行提取后，是一个列向量，转置为行向量后，再按行复制T（这里是11）次。\n",
    "re = repeat(welfare_mat[1,:]',T,1) "
   ]
  },
  {
   "cell_type": "code",
   "execution_count": 93,
   "metadata": {},
   "outputs": [
    {
     "data": {
      "text/plain": [
       "11×3 Array{Float64,2}:\n",
       " 1.0      1.0      1.0    \n",
       " 1.0107   1.01655  1.02942\n",
       " 1.02364  1.03671  1.06545\n",
       " 1.0394   1.0615   1.10995\n",
       " 1.05872  1.09224  1.16542\n",
       " 1.0826   1.13077  1.23526\n",
       " 1.11236  1.17962  1.3241 \n",
       " 1.14982  1.24236  1.43829\n",
       " 1.1975   1.32415  1.58669\n",
       " 1.25899  1.43251  1.78176\n",
       " 1.33953  1.57876  2.04129"
      ]
     },
     "execution_count": 93,
     "metadata": {},
     "output_type": "execute_result"
    }
   ],
   "source": [
    "#点除\n",
    "welfare_mat = welfare_mat ./ re"
   ]
  },
  {
   "cell_type": "code",
   "execution_count": 78,
   "metadata": {},
   "outputs": [
    {
     "data": {
      "text/plain": [
       "11×3 Adjoint{Float64,Array{Float64,2}}:\n",
       " 1.77287  1.4662   1.0682 \n",
       " 1.7789   1.47401  1.07841\n",
       " 1.78609  1.48339  1.09062\n",
       " 1.79474  1.49472  1.10531\n",
       " 1.80519  1.50851  1.12305\n",
       " 1.8179   1.52541  1.14457\n",
       " 1.83346  1.54627  1.17077\n",
       " 1.85265  1.57222  1.20274\n",
       " 1.87648  1.60476  1.24182\n",
       " 1.90635  1.64592  1.28959\n",
       " 1.94416  1.69838  1.34801"
      ]
     },
     "execution_count": 78,
     "metadata": {},
     "output_type": "execute_result"
    }
   ],
   "source": [
    "L_mat = L_mat'"
   ]
  },
  {
   "cell_type": "markdown",
   "metadata": {},
   "source": [
    "画图"
   ]
  },
  {
   "cell_type": "code",
   "execution_count": 134,
   "metadata": {},
   "outputs": [
    {
     "data": {
      "text/plain": [
       "2.0:-0.1:1.0"
      ]
     },
     "execution_count": 134,
     "metadata": {},
     "output_type": "execute_result"
    }
   ],
   "source": [
    "x = tt_vec'"
   ]
  },
  {
   "cell_type": "code",
   "execution_count": 130,
   "metadata": {},
   "outputs": [
    {
     "data": {
      "text/plain": [
       "11-element Array{Float64,1}:\n",
       " 1.0               \n",
       " 1.0106975693468205\n",
       " 1.0236409528402886\n",
       " 1.0394001604013523\n",
       " 1.0587227390366563\n",
       " 1.0825995881512573\n",
       " 1.1123614407247628\n",
       " 1.149822861427291 \n",
       " 1.1975043146861926\n",
       " 1.2589896243445986\n",
       " 1.3395252359405756"
      ]
     },
     "execution_count": 130,
     "metadata": {},
     "output_type": "execute_result"
    }
   ],
   "source": [
    "welfare_mat[:,1]#观察第一列（country 1）的福利变化"
   ]
  },
  {
   "cell_type": "code",
   "execution_count": 138,
   "metadata": {},
   "outputs": [
    {
     "data": {
      "image/svg+xml": [
       "<?xml version=\"1.0\" encoding=\"utf-8\"?>\n",
       "<svg xmlns=\"http://www.w3.org/2000/svg\" xmlns:xlink=\"http://www.w3.org/1999/xlink\" width=\"600\" height=\"400\" viewBox=\"0 0 2400 1600\">\n",
       "<defs>\n",
       "  <clipPath id=\"clip4900\">\n",
       "    <rect x=\"0\" y=\"0\" width=\"2400\" height=\"1600\"/>\n",
       "  </clipPath>\n",
       "</defs>\n",
       "<path clip-path=\"url(#clip4900)\" d=\"\n",
       "M0 1600 L2400 1600 L2400 0 L0 0  Z\n",
       "  \" fill=\"#ffffff\" fill-rule=\"evenodd\" fill-opacity=\"1\"/>\n",
       "<defs>\n",
       "  <clipPath id=\"clip4901\">\n",
       "    <rect x=\"480\" y=\"0\" width=\"1681\" height=\"1600\"/>\n",
       "  </clipPath>\n",
       "</defs>\n",
       "<path clip-path=\"url(#clip4900)\" d=\"\n",
       "M153.898 1425.62 L2352.76 1425.62 L2352.76 47.2441 L153.898 47.2441  Z\n",
       "  \" fill=\"#ffffff\" fill-rule=\"evenodd\" fill-opacity=\"1\"/>\n",
       "<defs>\n",
       "  <clipPath id=\"clip4902\">\n",
       "    <rect x=\"153\" y=\"47\" width=\"2200\" height=\"1379\"/>\n",
       "  </clipPath>\n",
       "</defs>\n",
       "<polyline clip-path=\"url(#clip4902)\" style=\"stroke:#000000; stroke-width:1.6; stroke-opacity:0.1; fill:none\" points=\"\n",
       "  2290.52,1425.62 2290.52,47.2441 \n",
       "  \"/>\n",
       "<polyline clip-path=\"url(#clip4902)\" style=\"stroke:#000000; stroke-width:1.6; stroke-opacity:0.1; fill:none\" points=\"\n",
       "  1771.93,1425.62 1771.93,47.2441 \n",
       "  \"/>\n",
       "<polyline clip-path=\"url(#clip4902)\" style=\"stroke:#000000; stroke-width:1.6; stroke-opacity:0.1; fill:none\" points=\"\n",
       "  1253.33,1425.62 1253.33,47.2441 \n",
       "  \"/>\n",
       "<polyline clip-path=\"url(#clip4902)\" style=\"stroke:#000000; stroke-width:1.6; stroke-opacity:0.1; fill:none\" points=\"\n",
       "  734.728,1425.62 734.728,47.2441 \n",
       "  \"/>\n",
       "<polyline clip-path=\"url(#clip4902)\" style=\"stroke:#000000; stroke-width:1.6; stroke-opacity:0.1; fill:none\" points=\"\n",
       "  216.13,1425.62 216.13,47.2441 \n",
       "  \"/>\n",
       "<polyline clip-path=\"url(#clip4902)\" style=\"stroke:#000000; stroke-width:1.6; stroke-opacity:0.1; fill:none\" points=\"\n",
       "  2352.76,1386.61 153.898,1386.61 \n",
       "  \"/>\n",
       "<polyline clip-path=\"url(#clip4902)\" style=\"stroke:#000000; stroke-width:1.6; stroke-opacity:0.1; fill:none\" points=\"\n",
       "  2352.76,1003.62 153.898,1003.62 \n",
       "  \"/>\n",
       "<polyline clip-path=\"url(#clip4902)\" style=\"stroke:#000000; stroke-width:1.6; stroke-opacity:0.1; fill:none\" points=\"\n",
       "  2352.76,620.625 153.898,620.625 \n",
       "  \"/>\n",
       "<polyline clip-path=\"url(#clip4902)\" style=\"stroke:#000000; stroke-width:1.6; stroke-opacity:0.1; fill:none\" points=\"\n",
       "  2352.76,237.633 153.898,237.633 \n",
       "  \"/>\n",
       "<polyline clip-path=\"url(#clip4900)\" style=\"stroke:#000000; stroke-width:3.2; stroke-opacity:1; fill:none\" points=\"\n",
       "  2352.76,1425.62 153.898,1425.62 \n",
       "  \"/>\n",
       "<polyline clip-path=\"url(#clip4900)\" style=\"stroke:#000000; stroke-width:3.2; stroke-opacity:1; fill:none\" points=\"\n",
       "  153.898,1425.62 153.898,47.2441 \n",
       "  \"/>\n",
       "<polyline clip-path=\"url(#clip4900)\" style=\"stroke:#000000; stroke-width:3.2; stroke-opacity:1; fill:none\" points=\"\n",
       "  2290.52,1425.62 2290.52,1404.94 \n",
       "  \"/>\n",
       "<polyline clip-path=\"url(#clip4900)\" style=\"stroke:#000000; stroke-width:3.2; stroke-opacity:1; fill:none\" points=\"\n",
       "  1771.93,1425.62 1771.93,1404.94 \n",
       "  \"/>\n",
       "<polyline clip-path=\"url(#clip4900)\" style=\"stroke:#000000; stroke-width:3.2; stroke-opacity:1; fill:none\" points=\"\n",
       "  1253.33,1425.62 1253.33,1404.94 \n",
       "  \"/>\n",
       "<polyline clip-path=\"url(#clip4900)\" style=\"stroke:#000000; stroke-width:3.2; stroke-opacity:1; fill:none\" points=\"\n",
       "  734.728,1425.62 734.728,1404.94 \n",
       "  \"/>\n",
       "<polyline clip-path=\"url(#clip4900)\" style=\"stroke:#000000; stroke-width:3.2; stroke-opacity:1; fill:none\" points=\"\n",
       "  216.13,1425.62 216.13,1404.94 \n",
       "  \"/>\n",
       "<polyline clip-path=\"url(#clip4900)\" style=\"stroke:#000000; stroke-width:3.2; stroke-opacity:1; fill:none\" points=\"\n",
       "  153.898,1386.61 186.881,1386.61 \n",
       "  \"/>\n",
       "<polyline clip-path=\"url(#clip4900)\" style=\"stroke:#000000; stroke-width:3.2; stroke-opacity:1; fill:none\" points=\"\n",
       "  153.898,1003.62 186.881,1003.62 \n",
       "  \"/>\n",
       "<polyline clip-path=\"url(#clip4900)\" style=\"stroke:#000000; stroke-width:3.2; stroke-opacity:1; fill:none\" points=\"\n",
       "  153.898,620.625 186.881,620.625 \n",
       "  \"/>\n",
       "<polyline clip-path=\"url(#clip4900)\" style=\"stroke:#000000; stroke-width:3.2; stroke-opacity:1; fill:none\" points=\"\n",
       "  153.898,237.633 186.881,237.633 \n",
       "  \"/>\n",
       "<g clip-path=\"url(#clip4900)\">\n",
       "<text style=\"fill:#000000; fill-opacity:1; font-family:Arial,Helvetica Neue,Helvetica,sans-serif; font-size:48px; text-anchor:middle;\" transform=\"rotate(0, 2290.52, 1479.62)\" x=\"2290.52\" y=\"1479.62\">1.00</text>\n",
       "</g>\n",
       "<g clip-path=\"url(#clip4900)\">\n",
       "<text style=\"fill:#000000; fill-opacity:1; font-family:Arial,Helvetica Neue,Helvetica,sans-serif; font-size:48px; text-anchor:middle;\" transform=\"rotate(0, 1771.93, 1479.62)\" x=\"1771.93\" y=\"1479.62\">1.25</text>\n",
       "</g>\n",
       "<g clip-path=\"url(#clip4900)\">\n",
       "<text style=\"fill:#000000; fill-opacity:1; font-family:Arial,Helvetica Neue,Helvetica,sans-serif; font-size:48px; text-anchor:middle;\" transform=\"rotate(0, 1253.33, 1479.62)\" x=\"1253.33\" y=\"1479.62\">1.50</text>\n",
       "</g>\n",
       "<g clip-path=\"url(#clip4900)\">\n",
       "<text style=\"fill:#000000; fill-opacity:1; font-family:Arial,Helvetica Neue,Helvetica,sans-serif; font-size:48px; text-anchor:middle;\" transform=\"rotate(0, 734.728, 1479.62)\" x=\"734.728\" y=\"1479.62\">1.75</text>\n",
       "</g>\n",
       "<g clip-path=\"url(#clip4900)\">\n",
       "<text style=\"fill:#000000; fill-opacity:1; font-family:Arial,Helvetica Neue,Helvetica,sans-serif; font-size:48px; text-anchor:middle;\" transform=\"rotate(0, 216.13, 1479.62)\" x=\"216.13\" y=\"1479.62\">2.00</text>\n",
       "</g>\n",
       "<g clip-path=\"url(#clip4900)\">\n",
       "<text style=\"fill:#000000; fill-opacity:1; font-family:Arial,Helvetica Neue,Helvetica,sans-serif; font-size:48px; text-anchor:end;\" transform=\"rotate(0, 129.898, 1404.11)\" x=\"129.898\" y=\"1404.11\">1.0</text>\n",
       "</g>\n",
       "<g clip-path=\"url(#clip4900)\">\n",
       "<text style=\"fill:#000000; fill-opacity:1; font-family:Arial,Helvetica Neue,Helvetica,sans-serif; font-size:48px; text-anchor:end;\" transform=\"rotate(0, 129.898, 1021.12)\" x=\"129.898\" y=\"1021.12\">1.1</text>\n",
       "</g>\n",
       "<g clip-path=\"url(#clip4900)\">\n",
       "<text style=\"fill:#000000; fill-opacity:1; font-family:Arial,Helvetica Neue,Helvetica,sans-serif; font-size:48px; text-anchor:end;\" transform=\"rotate(0, 129.898, 638.125)\" x=\"129.898\" y=\"638.125\">1.2</text>\n",
       "</g>\n",
       "<g clip-path=\"url(#clip4900)\">\n",
       "<text style=\"fill:#000000; fill-opacity:1; font-family:Arial,Helvetica Neue,Helvetica,sans-serif; font-size:48px; text-anchor:end;\" transform=\"rotate(0, 129.898, 255.133)\" x=\"129.898\" y=\"255.133\">1.3</text>\n",
       "</g>\n",
       "<g clip-path=\"url(#clip4900)\">\n",
       "<text style=\"fill:#000000; fill-opacity:1; font-family:Arial,Helvetica Neue,Helvetica,sans-serif; font-size:66px; text-anchor:middle;\" transform=\"rotate(0, 1253.33, 1559.48)\" x=\"1253.33\" y=\"1559.48\">\tau</text>\n",
       "</g>\n",
       "<polyline clip-path=\"url(#clip4902)\" style=\"stroke:#ff0000; stroke-width:6.4; stroke-opacity:1; fill:none\" stroke-dasharray=\"3, 6\" points=\"\n",
       "  216.13,1386.61 423.569,1345.64 631.009,1296.07 838.448,1235.71 1045.89,1161.7 1253.33,1070.26 1460.77,956.273 1668.21,812.799 1875.65,630.183 2083.08,394.699 \n",
       "  2290.52,86.2547 \n",
       "  \"/>\n",
       "<path clip-path=\"url(#clip4900)\" d=\"\n",
       "M1842.78 251.724 L2280.76 251.724 L2280.76 130.764 L1842.78 130.764  Z\n",
       "  \" fill=\"#ffffff\" fill-rule=\"evenodd\" fill-opacity=\"1\"/>\n",
       "<polyline clip-path=\"url(#clip4900)\" style=\"stroke:#000000; stroke-width:3.2; stroke-opacity:1; fill:none\" points=\"\n",
       "  1842.78,251.724 2280.76,251.724 2280.76,130.764 1842.78,130.764 1842.78,251.724 \n",
       "  \"/>\n",
       "<polyline clip-path=\"url(#clip4900)\" style=\"stroke:#ff0000; stroke-width:6.4; stroke-opacity:1; fill:none\" stroke-dasharray=\"3, 6\" points=\"\n",
       "  1866.78,191.244 2010.78,191.244 \n",
       "  \"/>\n",
       "<g clip-path=\"url(#clip4900)\">\n",
       "<text style=\"fill:#000000; fill-opacity:1; font-family:Arial,Helvetica Neue,Helvetica,sans-serif; font-size:48px; text-anchor:start;\" transform=\"rotate(0, 2034.78, 208.744)\" x=\"2034.78\" y=\"208.744\">country 1</text>\n",
       "</g>\n",
       "</svg>\n"
      ]
     },
     "execution_count": 138,
     "metadata": {},
     "output_type": "execute_result"
    }
   ],
   "source": [
    "#尝试画出country 1的变化。注意调用xflip属性，使x轴从大到小变化。\n",
    "Plots.plot(x,welfare_mat[:,1],color=:red, linewidth=2, label=\"country 1\",linestyle=:dot, xflip=true,xlabel=\"\\tau\")"
   ]
  },
  {
   "cell_type": "code",
   "execution_count": 156,
   "metadata": {},
   "outputs": [
    {
     "data": {
      "image/svg+xml": [
       "<?xml version=\"1.0\" encoding=\"utf-8\"?>\n",
       "<svg xmlns=\"http://www.w3.org/2000/svg\" xmlns:xlink=\"http://www.w3.org/1999/xlink\" width=\"600\" height=\"400\" viewBox=\"0 0 2400 1600\">\n",
       "<defs>\n",
       "  <clipPath id=\"clip0100\">\n",
       "    <rect x=\"0\" y=\"0\" width=\"2400\" height=\"1600\"/>\n",
       "  </clipPath>\n",
       "</defs>\n",
       "<path clip-path=\"url(#clip0100)\" d=\"\n",
       "M0 1600 L2400 1600 L2400 0 L0 0  Z\n",
       "  \" fill=\"#ffffff\" fill-rule=\"evenodd\" fill-opacity=\"1\"/>\n",
       "<defs>\n",
       "  <clipPath id=\"clip0101\">\n",
       "    <rect x=\"480\" y=\"0\" width=\"1681\" height=\"1600\"/>\n",
       "  </clipPath>\n",
       "</defs>\n",
       "<path clip-path=\"url(#clip0100)\" d=\"\n",
       "M215.754 1425.62 L2352.76 1425.62 L2352.76 47.2441 L215.754 47.2441  Z\n",
       "  \" fill=\"#ffffff\" fill-rule=\"evenodd\" fill-opacity=\"1\"/>\n",
       "<defs>\n",
       "  <clipPath id=\"clip0102\">\n",
       "    <rect x=\"215\" y=\"47\" width=\"2138\" height=\"1379\"/>\n",
       "  </clipPath>\n",
       "</defs>\n",
       "<polyline clip-path=\"url(#clip0102)\" style=\"stroke:#000000; stroke-width:1.6; stroke-opacity:0.1; fill:none\" points=\"\n",
       "  2292.27,1425.62 2292.27,47.2441 \n",
       "  \"/>\n",
       "<polyline clip-path=\"url(#clip0102)\" style=\"stroke:#000000; stroke-width:1.6; stroke-opacity:0.1; fill:none\" points=\"\n",
       "  1788.26,1425.62 1788.26,47.2441 \n",
       "  \"/>\n",
       "<polyline clip-path=\"url(#clip0102)\" style=\"stroke:#000000; stroke-width:1.6; stroke-opacity:0.1; fill:none\" points=\"\n",
       "  1284.25,1425.62 1284.25,47.2441 \n",
       "  \"/>\n",
       "<polyline clip-path=\"url(#clip0102)\" style=\"stroke:#000000; stroke-width:1.6; stroke-opacity:0.1; fill:none\" points=\"\n",
       "  780.245,1425.62 780.245,47.2441 \n",
       "  \"/>\n",
       "<polyline clip-path=\"url(#clip0102)\" style=\"stroke:#000000; stroke-width:1.6; stroke-opacity:0.1; fill:none\" points=\"\n",
       "  276.235,1425.62 276.235,47.2441 \n",
       "  \"/>\n",
       "<polyline clip-path=\"url(#clip0102)\" style=\"stroke:#000000; stroke-width:1.6; stroke-opacity:0.1; fill:none\" points=\"\n",
       "  2352.76,1386.61 215.754,1386.61 \n",
       "  \"/>\n",
       "<polyline clip-path=\"url(#clip0102)\" style=\"stroke:#000000; stroke-width:1.6; stroke-opacity:0.1; fill:none\" points=\"\n",
       "  2352.76,1136.85 215.754,1136.85 \n",
       "  \"/>\n",
       "<polyline clip-path=\"url(#clip0102)\" style=\"stroke:#000000; stroke-width:1.6; stroke-opacity:0.1; fill:none\" points=\"\n",
       "  2352.76,887.094 215.754,887.094 \n",
       "  \"/>\n",
       "<polyline clip-path=\"url(#clip0102)\" style=\"stroke:#000000; stroke-width:1.6; stroke-opacity:0.1; fill:none\" points=\"\n",
       "  2352.76,637.337 215.754,637.337 \n",
       "  \"/>\n",
       "<polyline clip-path=\"url(#clip0102)\" style=\"stroke:#000000; stroke-width:1.6; stroke-opacity:0.1; fill:none\" points=\"\n",
       "  2352.76,387.58 215.754,387.58 \n",
       "  \"/>\n",
       "<polyline clip-path=\"url(#clip0102)\" style=\"stroke:#000000; stroke-width:1.6; stroke-opacity:0.1; fill:none\" points=\"\n",
       "  2352.76,137.823 215.754,137.823 \n",
       "  \"/>\n",
       "<polyline clip-path=\"url(#clip0100)\" style=\"stroke:#000000; stroke-width:3.2; stroke-opacity:1; fill:none\" points=\"\n",
       "  2352.76,1425.62 215.754,1425.62 \n",
       "  \"/>\n",
       "<polyline clip-path=\"url(#clip0100)\" style=\"stroke:#000000; stroke-width:3.2; stroke-opacity:1; fill:none\" points=\"\n",
       "  215.754,1425.62 215.754,47.2441 \n",
       "  \"/>\n",
       "<polyline clip-path=\"url(#clip0100)\" style=\"stroke:#000000; stroke-width:3.2; stroke-opacity:1; fill:none\" points=\"\n",
       "  2292.27,1425.62 2292.27,1404.94 \n",
       "  \"/>\n",
       "<polyline clip-path=\"url(#clip0100)\" style=\"stroke:#000000; stroke-width:3.2; stroke-opacity:1; fill:none\" points=\"\n",
       "  1788.26,1425.62 1788.26,1404.94 \n",
       "  \"/>\n",
       "<polyline clip-path=\"url(#clip0100)\" style=\"stroke:#000000; stroke-width:3.2; stroke-opacity:1; fill:none\" points=\"\n",
       "  1284.25,1425.62 1284.25,1404.94 \n",
       "  \"/>\n",
       "<polyline clip-path=\"url(#clip0100)\" style=\"stroke:#000000; stroke-width:3.2; stroke-opacity:1; fill:none\" points=\"\n",
       "  780.245,1425.62 780.245,1404.94 \n",
       "  \"/>\n",
       "<polyline clip-path=\"url(#clip0100)\" style=\"stroke:#000000; stroke-width:3.2; stroke-opacity:1; fill:none\" points=\"\n",
       "  276.235,1425.62 276.235,1404.94 \n",
       "  \"/>\n",
       "<polyline clip-path=\"url(#clip0100)\" style=\"stroke:#000000; stroke-width:3.2; stroke-opacity:1; fill:none\" points=\"\n",
       "  215.754,1386.61 247.809,1386.61 \n",
       "  \"/>\n",
       "<polyline clip-path=\"url(#clip0100)\" style=\"stroke:#000000; stroke-width:3.2; stroke-opacity:1; fill:none\" points=\"\n",
       "  215.754,1136.85 247.809,1136.85 \n",
       "  \"/>\n",
       "<polyline clip-path=\"url(#clip0100)\" style=\"stroke:#000000; stroke-width:3.2; stroke-opacity:1; fill:none\" points=\"\n",
       "  215.754,887.094 247.809,887.094 \n",
       "  \"/>\n",
       "<polyline clip-path=\"url(#clip0100)\" style=\"stroke:#000000; stroke-width:3.2; stroke-opacity:1; fill:none\" points=\"\n",
       "  215.754,637.337 247.809,637.337 \n",
       "  \"/>\n",
       "<polyline clip-path=\"url(#clip0100)\" style=\"stroke:#000000; stroke-width:3.2; stroke-opacity:1; fill:none\" points=\"\n",
       "  215.754,387.58 247.809,387.58 \n",
       "  \"/>\n",
       "<polyline clip-path=\"url(#clip0100)\" style=\"stroke:#000000; stroke-width:3.2; stroke-opacity:1; fill:none\" points=\"\n",
       "  215.754,137.823 247.809,137.823 \n",
       "  \"/>\n",
       "<g clip-path=\"url(#clip0100)\">\n",
       "<text style=\"fill:#000000; fill-opacity:1; font-family:Arial,Helvetica Neue,Helvetica,sans-serif; font-size:48px; text-anchor:middle;\" transform=\"rotate(0, 2292.27, 1479.62)\" x=\"2292.27\" y=\"1479.62\">1.00</text>\n",
       "</g>\n",
       "<g clip-path=\"url(#clip0100)\">\n",
       "<text style=\"fill:#000000; fill-opacity:1; font-family:Arial,Helvetica Neue,Helvetica,sans-serif; font-size:48px; text-anchor:middle;\" transform=\"rotate(0, 1788.26, 1479.62)\" x=\"1788.26\" y=\"1479.62\">1.25</text>\n",
       "</g>\n",
       "<g clip-path=\"url(#clip0100)\">\n",
       "<text style=\"fill:#000000; fill-opacity:1; font-family:Arial,Helvetica Neue,Helvetica,sans-serif; font-size:48px; text-anchor:middle;\" transform=\"rotate(0, 1284.25, 1479.62)\" x=\"1284.25\" y=\"1479.62\">1.50</text>\n",
       "</g>\n",
       "<g clip-path=\"url(#clip0100)\">\n",
       "<text style=\"fill:#000000; fill-opacity:1; font-family:Arial,Helvetica Neue,Helvetica,sans-serif; font-size:48px; text-anchor:middle;\" transform=\"rotate(0, 780.245, 1479.62)\" x=\"780.245\" y=\"1479.62\">1.75</text>\n",
       "</g>\n",
       "<g clip-path=\"url(#clip0100)\">\n",
       "<text style=\"fill:#000000; fill-opacity:1; font-family:Arial,Helvetica Neue,Helvetica,sans-serif; font-size:48px; text-anchor:middle;\" transform=\"rotate(0, 276.235, 1479.62)\" x=\"276.235\" y=\"1479.62\">2.00</text>\n",
       "</g>\n",
       "<g clip-path=\"url(#clip0100)\">\n",
       "<text style=\"fill:#000000; fill-opacity:1; font-family:Arial,Helvetica Neue,Helvetica,sans-serif; font-size:48px; text-anchor:end;\" transform=\"rotate(0, 191.754, 1404.11)\" x=\"191.754\" y=\"1404.11\">1.0</text>\n",
       "</g>\n",
       "<g clip-path=\"url(#clip0100)\">\n",
       "<text style=\"fill:#000000; fill-opacity:1; font-family:Arial,Helvetica Neue,Helvetica,sans-serif; font-size:48px; text-anchor:end;\" transform=\"rotate(0, 191.754, 1154.35)\" x=\"191.754\" y=\"1154.35\">1.2</text>\n",
       "</g>\n",
       "<g clip-path=\"url(#clip0100)\">\n",
       "<text style=\"fill:#000000; fill-opacity:1; font-family:Arial,Helvetica Neue,Helvetica,sans-serif; font-size:48px; text-anchor:end;\" transform=\"rotate(0, 191.754, 904.594)\" x=\"191.754\" y=\"904.594\">1.4</text>\n",
       "</g>\n",
       "<g clip-path=\"url(#clip0100)\">\n",
       "<text style=\"fill:#000000; fill-opacity:1; font-family:Arial,Helvetica Neue,Helvetica,sans-serif; font-size:48px; text-anchor:end;\" transform=\"rotate(0, 191.754, 654.837)\" x=\"191.754\" y=\"654.837\">1.6</text>\n",
       "</g>\n",
       "<g clip-path=\"url(#clip0100)\">\n",
       "<text style=\"fill:#000000; fill-opacity:1; font-family:Arial,Helvetica Neue,Helvetica,sans-serif; font-size:48px; text-anchor:end;\" transform=\"rotate(0, 191.754, 405.08)\" x=\"191.754\" y=\"405.08\">1.8</text>\n",
       "</g>\n",
       "<g clip-path=\"url(#clip0100)\">\n",
       "<text style=\"fill:#000000; fill-opacity:1; font-family:Arial,Helvetica Neue,Helvetica,sans-serif; font-size:48px; text-anchor:end;\" transform=\"rotate(0, 191.754, 155.323)\" x=\"191.754\" y=\"155.323\">2.0</text>\n",
       "</g>\n",
       "<g clip-path=\"url(#clip0100)\">\n",
       "<text style=\"fill:#000000; fill-opacity:1; font-family:Arial,Helvetica Neue,Helvetica,sans-serif; font-size:66px; text-anchor:middle;\" transform=\"rotate(0, 1284.25, 1559.48)\" x=\"1284.25\" y=\"1559.48\">tau</text>\n",
       "</g>\n",
       "<g clip-path=\"url(#clip0100)\">\n",
       "<text style=\"fill:#000000; fill-opacity:1; font-family:Arial,Helvetica Neue,Helvetica,sans-serif; font-size:66px; text-anchor:middle;\" transform=\"rotate(-90, 89.2861, 736.431)\" x=\"89.2861\" y=\"736.431\">Welfare(=1 if tau = 2)</text>\n",
       "</g>\n",
       "<polyline clip-path=\"url(#clip0102)\" style=\"stroke:#ff0000; stroke-width:6.4; stroke-opacity:1; fill:none\" stroke-dasharray=\"26, 13, 3, 13\" points=\"\n",
       "  276.235,1386.61 477.839,1373.25 679.443,1357.09 881.047,1337.41 1082.65,1313.28 1284.25,1283.46 1485.86,1246.29 1687.46,1199.51 1889.07,1139.97 2090.67,1063.19 \n",
       "  2292.27,962.614 \n",
       "  \"/>\n",
       "<polyline clip-path=\"url(#clip0102)\" style=\"stroke:#0000ff; stroke-width:6.4; stroke-opacity:1; fill:none\" stroke-dasharray=\"3, 6\" points=\"\n",
       "  276.235,1386.61 477.839,1365.95 679.443,1340.76 881.047,1309.81 1082.65,1271.42 1284.25,1223.31 1485.86,1162.31 1687.46,1083.95 1889.07,981.82 2090.67,846.496 \n",
       "  2292.27,663.86 \n",
       "  \"/>\n",
       "<polyline clip-path=\"url(#clip0102)\" style=\"stroke:#008000; stroke-width:6.4; stroke-opacity:1; fill:none\" stroke-dasharray=\"26, 16\" points=\"\n",
       "  276.235,1386.61 477.839,1349.87 679.443,1304.88 881.047,1249.31 1082.65,1180.03 1284.25,1092.82 1485.86,981.881 1687.46,839.278 1889.07,653.954 2090.67,410.364 \n",
       "  2292.27,86.2547 \n",
       "  \"/>\n",
       "<path clip-path=\"url(#clip0100)\" d=\"\n",
       "M1842.78 372.684 L2280.76 372.684 L2280.76 130.764 L1842.78 130.764  Z\n",
       "  \" fill=\"#ffffff\" fill-rule=\"evenodd\" fill-opacity=\"1\"/>\n",
       "<polyline clip-path=\"url(#clip0100)\" style=\"stroke:#000000; stroke-width:3.2; stroke-opacity:1; fill:none\" points=\"\n",
       "  1842.78,372.684 2280.76,372.684 2280.76,130.764 1842.78,130.764 1842.78,372.684 \n",
       "  \"/>\n",
       "<polyline clip-path=\"url(#clip0100)\" style=\"stroke:#ff0000; stroke-width:6.4; stroke-opacity:1; fill:none\" stroke-dasharray=\"26, 13, 3, 13\" points=\"\n",
       "  1866.78,191.244 2010.78,191.244 \n",
       "  \"/>\n",
       "<g clip-path=\"url(#clip0100)\">\n",
       "<text style=\"fill:#000000; fill-opacity:1; font-family:Arial,Helvetica Neue,Helvetica,sans-serif; font-size:48px; text-anchor:start;\" transform=\"rotate(0, 2034.78, 208.744)\" x=\"2034.78\" y=\"208.744\">country 1</text>\n",
       "</g>\n",
       "<polyline clip-path=\"url(#clip0100)\" style=\"stroke:#0000ff; stroke-width:6.4; stroke-opacity:1; fill:none\" stroke-dasharray=\"3, 6\" points=\"\n",
       "  1866.78,251.724 2010.78,251.724 \n",
       "  \"/>\n",
       "<g clip-path=\"url(#clip0100)\">\n",
       "<text style=\"fill:#000000; fill-opacity:1; font-family:Arial,Helvetica Neue,Helvetica,sans-serif; font-size:48px; text-anchor:start;\" transform=\"rotate(0, 2034.78, 269.224)\" x=\"2034.78\" y=\"269.224\">country 2</text>\n",
       "</g>\n",
       "<polyline clip-path=\"url(#clip0100)\" style=\"stroke:#008000; stroke-width:6.4; stroke-opacity:1; fill:none\" stroke-dasharray=\"26, 16\" points=\"\n",
       "  1866.78,312.204 2010.78,312.204 \n",
       "  \"/>\n",
       "<g clip-path=\"url(#clip0100)\">\n",
       "<text style=\"fill:#000000; fill-opacity:1; font-family:Arial,Helvetica Neue,Helvetica,sans-serif; font-size:48px; text-anchor:start;\" transform=\"rotate(0, 2034.78, 329.704)\" x=\"2034.78\" y=\"329.704\">country 3</text>\n",
       "</g>\n",
       "</svg>\n"
      ]
     },
     "execution_count": 156,
     "metadata": {},
     "output_type": "execute_result"
    }
   ],
   "source": [
    "Plots.plot(x,welfare_mat,linewidth=2, xflip=true,\n",
    "    label=[\"country 1\"  \"country 2\" \"country 3\"],\n",
    "    xlabel=\"tau\", ylabel=\"Welfare(=1 if tau = 2)\",\n",
    "    linestyle=[:dashdot :dot :dash],\n",
    "    linecolor=[:red :blue :green])"
   ]
  },
  {
   "cell_type": "code",
   "execution_count": 159,
   "metadata": {},
   "outputs": [
    {
     "data": {
      "image/svg+xml": [
       "<?xml version=\"1.0\" encoding=\"utf-8\"?>\n",
       "<svg xmlns=\"http://www.w3.org/2000/svg\" xmlns:xlink=\"http://www.w3.org/1999/xlink\" width=\"600\" height=\"400\" viewBox=\"0 0 2400 1600\">\n",
       "<defs>\n",
       "  <clipPath id=\"clip1100\">\n",
       "    <rect x=\"0\" y=\"0\" width=\"2400\" height=\"1600\"/>\n",
       "  </clipPath>\n",
       "</defs>\n",
       "<path clip-path=\"url(#clip1100)\" d=\"\n",
       "M0 1600 L2400 1600 L2400 0 L0 0  Z\n",
       "  \" fill=\"#ffffff\" fill-rule=\"evenodd\" fill-opacity=\"1\"/>\n",
       "<defs>\n",
       "  <clipPath id=\"clip1101\">\n",
       "    <rect x=\"480\" y=\"0\" width=\"1681\" height=\"1600\"/>\n",
       "  </clipPath>\n",
       "</defs>\n",
       "<path clip-path=\"url(#clip1100)\" d=\"\n",
       "M215.754 1425.62 L2352.76 1425.62 L2352.76 47.2441 L215.754 47.2441  Z\n",
       "  \" fill=\"#ffffff\" fill-rule=\"evenodd\" fill-opacity=\"1\"/>\n",
       "<defs>\n",
       "  <clipPath id=\"clip1102\">\n",
       "    <rect x=\"215\" y=\"47\" width=\"2138\" height=\"1379\"/>\n",
       "  </clipPath>\n",
       "</defs>\n",
       "<polyline clip-path=\"url(#clip1102)\" style=\"stroke:#000000; stroke-width:1.6; stroke-opacity:0.1; fill:none\" points=\"\n",
       "  2292.27,1425.62 2292.27,47.2441 \n",
       "  \"/>\n",
       "<polyline clip-path=\"url(#clip1102)\" style=\"stroke:#000000; stroke-width:1.6; stroke-opacity:0.1; fill:none\" points=\"\n",
       "  1788.26,1425.62 1788.26,47.2441 \n",
       "  \"/>\n",
       "<polyline clip-path=\"url(#clip1102)\" style=\"stroke:#000000; stroke-width:1.6; stroke-opacity:0.1; fill:none\" points=\"\n",
       "  1284.25,1425.62 1284.25,47.2441 \n",
       "  \"/>\n",
       "<polyline clip-path=\"url(#clip1102)\" style=\"stroke:#000000; stroke-width:1.6; stroke-opacity:0.1; fill:none\" points=\"\n",
       "  780.245,1425.62 780.245,47.2441 \n",
       "  \"/>\n",
       "<polyline clip-path=\"url(#clip1102)\" style=\"stroke:#000000; stroke-width:1.6; stroke-opacity:0.1; fill:none\" points=\"\n",
       "  276.235,1425.62 276.235,47.2441 \n",
       "  \"/>\n",
       "<polyline clip-path=\"url(#clip1102)\" style=\"stroke:#000000; stroke-width:1.6; stroke-opacity:0.1; fill:none\" points=\"\n",
       "  2352.76,1190.95 215.754,1190.95 \n",
       "  \"/>\n",
       "<polyline clip-path=\"url(#clip1102)\" style=\"stroke:#000000; stroke-width:1.6; stroke-opacity:0.1; fill:none\" points=\"\n",
       "  2352.76,894.054 215.754,894.054 \n",
       "  \"/>\n",
       "<polyline clip-path=\"url(#clip1102)\" style=\"stroke:#000000; stroke-width:1.6; stroke-opacity:0.1; fill:none\" points=\"\n",
       "  2352.76,597.157 215.754,597.157 \n",
       "  \"/>\n",
       "<polyline clip-path=\"url(#clip1102)\" style=\"stroke:#000000; stroke-width:1.6; stroke-opacity:0.1; fill:none\" points=\"\n",
       "  2352.76,300.26 215.754,300.26 \n",
       "  \"/>\n",
       "<polyline clip-path=\"url(#clip1100)\" style=\"stroke:#000000; stroke-width:3.2; stroke-opacity:1; fill:none\" points=\"\n",
       "  2352.76,1425.62 215.754,1425.62 \n",
       "  \"/>\n",
       "<polyline clip-path=\"url(#clip1100)\" style=\"stroke:#000000; stroke-width:3.2; stroke-opacity:1; fill:none\" points=\"\n",
       "  215.754,1425.62 215.754,47.2441 \n",
       "  \"/>\n",
       "<polyline clip-path=\"url(#clip1100)\" style=\"stroke:#000000; stroke-width:3.2; stroke-opacity:1; fill:none\" points=\"\n",
       "  2292.27,1425.62 2292.27,1404.94 \n",
       "  \"/>\n",
       "<polyline clip-path=\"url(#clip1100)\" style=\"stroke:#000000; stroke-width:3.2; stroke-opacity:1; fill:none\" points=\"\n",
       "  1788.26,1425.62 1788.26,1404.94 \n",
       "  \"/>\n",
       "<polyline clip-path=\"url(#clip1100)\" style=\"stroke:#000000; stroke-width:3.2; stroke-opacity:1; fill:none\" points=\"\n",
       "  1284.25,1425.62 1284.25,1404.94 \n",
       "  \"/>\n",
       "<polyline clip-path=\"url(#clip1100)\" style=\"stroke:#000000; stroke-width:3.2; stroke-opacity:1; fill:none\" points=\"\n",
       "  780.245,1425.62 780.245,1404.94 \n",
       "  \"/>\n",
       "<polyline clip-path=\"url(#clip1100)\" style=\"stroke:#000000; stroke-width:3.2; stroke-opacity:1; fill:none\" points=\"\n",
       "  276.235,1425.62 276.235,1404.94 \n",
       "  \"/>\n",
       "<polyline clip-path=\"url(#clip1100)\" style=\"stroke:#000000; stroke-width:3.2; stroke-opacity:1; fill:none\" points=\"\n",
       "  215.754,1190.95 247.809,1190.95 \n",
       "  \"/>\n",
       "<polyline clip-path=\"url(#clip1100)\" style=\"stroke:#000000; stroke-width:3.2; stroke-opacity:1; fill:none\" points=\"\n",
       "  215.754,894.054 247.809,894.054 \n",
       "  \"/>\n",
       "<polyline clip-path=\"url(#clip1100)\" style=\"stroke:#000000; stroke-width:3.2; stroke-opacity:1; fill:none\" points=\"\n",
       "  215.754,597.157 247.809,597.157 \n",
       "  \"/>\n",
       "<polyline clip-path=\"url(#clip1100)\" style=\"stroke:#000000; stroke-width:3.2; stroke-opacity:1; fill:none\" points=\"\n",
       "  215.754,300.26 247.809,300.26 \n",
       "  \"/>\n",
       "<g clip-path=\"url(#clip1100)\">\n",
       "<text style=\"fill:#000000; fill-opacity:1; font-family:Arial,Helvetica Neue,Helvetica,sans-serif; font-size:48px; text-anchor:middle;\" transform=\"rotate(0, 2292.27, 1479.62)\" x=\"2292.27\" y=\"1479.62\">1.00</text>\n",
       "</g>\n",
       "<g clip-path=\"url(#clip1100)\">\n",
       "<text style=\"fill:#000000; fill-opacity:1; font-family:Arial,Helvetica Neue,Helvetica,sans-serif; font-size:48px; text-anchor:middle;\" transform=\"rotate(0, 1788.26, 1479.62)\" x=\"1788.26\" y=\"1479.62\">1.25</text>\n",
       "</g>\n",
       "<g clip-path=\"url(#clip1100)\">\n",
       "<text style=\"fill:#000000; fill-opacity:1; font-family:Arial,Helvetica Neue,Helvetica,sans-serif; font-size:48px; text-anchor:middle;\" transform=\"rotate(0, 1284.25, 1479.62)\" x=\"1284.25\" y=\"1479.62\">1.50</text>\n",
       "</g>\n",
       "<g clip-path=\"url(#clip1100)\">\n",
       "<text style=\"fill:#000000; fill-opacity:1; font-family:Arial,Helvetica Neue,Helvetica,sans-serif; font-size:48px; text-anchor:middle;\" transform=\"rotate(0, 780.245, 1479.62)\" x=\"780.245\" y=\"1479.62\">1.75</text>\n",
       "</g>\n",
       "<g clip-path=\"url(#clip1100)\">\n",
       "<text style=\"fill:#000000; fill-opacity:1; font-family:Arial,Helvetica Neue,Helvetica,sans-serif; font-size:48px; text-anchor:middle;\" transform=\"rotate(0, 276.235, 1479.62)\" x=\"276.235\" y=\"1479.62\">2.00</text>\n",
       "</g>\n",
       "<g clip-path=\"url(#clip1100)\">\n",
       "<text style=\"fill:#000000; fill-opacity:1; font-family:Arial,Helvetica Neue,Helvetica,sans-serif; font-size:48px; text-anchor:end;\" transform=\"rotate(0, 191.754, 1208.45)\" x=\"191.754\" y=\"1208.45\">1.2</text>\n",
       "</g>\n",
       "<g clip-path=\"url(#clip1100)\">\n",
       "<text style=\"fill:#000000; fill-opacity:1; font-family:Arial,Helvetica Neue,Helvetica,sans-serif; font-size:48px; text-anchor:end;\" transform=\"rotate(0, 191.754, 911.554)\" x=\"191.754\" y=\"911.554\">1.4</text>\n",
       "</g>\n",
       "<g clip-path=\"url(#clip1100)\">\n",
       "<text style=\"fill:#000000; fill-opacity:1; font-family:Arial,Helvetica Neue,Helvetica,sans-serif; font-size:48px; text-anchor:end;\" transform=\"rotate(0, 191.754, 614.657)\" x=\"191.754\" y=\"614.657\">1.6</text>\n",
       "</g>\n",
       "<g clip-path=\"url(#clip1100)\">\n",
       "<text style=\"fill:#000000; fill-opacity:1; font-family:Arial,Helvetica Neue,Helvetica,sans-serif; font-size:48px; text-anchor:end;\" transform=\"rotate(0, 191.754, 317.76)\" x=\"191.754\" y=\"317.76\">1.8</text>\n",
       "</g>\n",
       "<g clip-path=\"url(#clip1100)\">\n",
       "<text style=\"fill:#000000; fill-opacity:1; font-family:Arial,Helvetica Neue,Helvetica,sans-serif; font-size:66px; text-anchor:middle;\" transform=\"rotate(0, 1284.25, 1559.48)\" x=\"1284.25\" y=\"1559.48\">tau</text>\n",
       "</g>\n",
       "<g clip-path=\"url(#clip1100)\">\n",
       "<text style=\"fill:#000000; fill-opacity:1; font-family:Arial,Helvetica Neue,Helvetica,sans-serif; font-size:66px; text-anchor:middle;\" transform=\"rotate(-90, 89.2861, 736.431)\" x=\"89.2861\" y=\"736.431\">Labor</text>\n",
       "</g>\n",
       "<polyline clip-path=\"url(#clip1102)\" style=\"stroke:#ff0000; stroke-width:6.4; stroke-opacity:1; fill:none\" stroke-dasharray=\"26, 13, 3, 13\" points=\"\n",
       "  276.235,340.531 477.839,331.588 679.443,320.904 881.047,308.069 1082.65,292.555 1284.25,273.687 1485.86,250.587 1687.46,222.109 1889.07,186.728 2090.67,142.389 \n",
       "  2292.27,86.2547 \n",
       "  \"/>\n",
       "<polyline clip-path=\"url(#clip1102)\" style=\"stroke:#0000ff; stroke-width:6.4; stroke-opacity:1; fill:none\" stroke-dasharray=\"3, 6\" points=\"\n",
       "  276.235,795.788 477.839,784.187 679.443,770.262 881.047,753.436 1082.65,732.967 1284.25,707.886 1485.86,676.923 1687.46,638.401 1889.07,590.086 2090.67,528.992 \n",
       "  2292.27,451.111 \n",
       "  \"/>\n",
       "<polyline clip-path=\"url(#clip1102)\" style=\"stroke:#008000; stroke-width:6.4; stroke-opacity:1; fill:none\" stroke-dasharray=\"26, 16\" points=\"\n",
       "  276.235,1386.61 477.839,1371.45 679.443,1353.32 881.047,1331.52 1082.65,1305.19 1284.25,1273.24 1485.86,1234.34 1687.46,1186.88 1889.07,1128.88 2090.67,1057.95 \n",
       "  2292.27,971.237 \n",
       "  \"/>\n",
       "<path clip-path=\"url(#clip1100)\" d=\"\n",
       "M1842.78 372.684 L2280.76 372.684 L2280.76 130.764 L1842.78 130.764  Z\n",
       "  \" fill=\"#ffffff\" fill-rule=\"evenodd\" fill-opacity=\"1\"/>\n",
       "<polyline clip-path=\"url(#clip1100)\" style=\"stroke:#000000; stroke-width:3.2; stroke-opacity:1; fill:none\" points=\"\n",
       "  1842.78,372.684 2280.76,372.684 2280.76,130.764 1842.78,130.764 1842.78,372.684 \n",
       "  \"/>\n",
       "<polyline clip-path=\"url(#clip1100)\" style=\"stroke:#ff0000; stroke-width:6.4; stroke-opacity:1; fill:none\" stroke-dasharray=\"26, 13, 3, 13\" points=\"\n",
       "  1866.78,191.244 2010.78,191.244 \n",
       "  \"/>\n",
       "<g clip-path=\"url(#clip1100)\">\n",
       "<text style=\"fill:#000000; fill-opacity:1; font-family:Arial,Helvetica Neue,Helvetica,sans-serif; font-size:48px; text-anchor:start;\" transform=\"rotate(0, 2034.78, 208.744)\" x=\"2034.78\" y=\"208.744\">country 1</text>\n",
       "</g>\n",
       "<polyline clip-path=\"url(#clip1100)\" style=\"stroke:#0000ff; stroke-width:6.4; stroke-opacity:1; fill:none\" stroke-dasharray=\"3, 6\" points=\"\n",
       "  1866.78,251.724 2010.78,251.724 \n",
       "  \"/>\n",
       "<g clip-path=\"url(#clip1100)\">\n",
       "<text style=\"fill:#000000; fill-opacity:1; font-family:Arial,Helvetica Neue,Helvetica,sans-serif; font-size:48px; text-anchor:start;\" transform=\"rotate(0, 2034.78, 269.224)\" x=\"2034.78\" y=\"269.224\">country 2</text>\n",
       "</g>\n",
       "<polyline clip-path=\"url(#clip1100)\" style=\"stroke:#008000; stroke-width:6.4; stroke-opacity:1; fill:none\" stroke-dasharray=\"26, 16\" points=\"\n",
       "  1866.78,312.204 2010.78,312.204 \n",
       "  \"/>\n",
       "<g clip-path=\"url(#clip1100)\">\n",
       "<text style=\"fill:#000000; fill-opacity:1; font-family:Arial,Helvetica Neue,Helvetica,sans-serif; font-size:48px; text-anchor:start;\" transform=\"rotate(0, 2034.78, 329.704)\" x=\"2034.78\" y=\"329.704\">country 3</text>\n",
       "</g>\n",
       "</svg>\n"
      ]
     },
     "execution_count": 159,
     "metadata": {},
     "output_type": "execute_result"
    }
   ],
   "source": [
    "Plots.plot(x,L_mat,linewidth=2, xflip=true,\n",
    "    label=[\"country 1\"  \"country 2\" \"country 3\"],\n",
    "    xlabel=\"tau\", ylabel=\"Labor\",\n",
    "    linestyle=[:dashdot :dot :dash],\n",
    "    linecolor=[:red :blue :green])"
   ]
  }
 ],
 "metadata": {
  "kernelspec": {
   "display_name": "Julia 1.3.1",
   "language": "julia",
   "name": "julia-1.3"
  },
  "language_info": {
   "file_extension": ".jl",
   "mimetype": "application/julia",
   "name": "julia",
   "version": "1.3.1"
  }
 },
 "nbformat": 4,
 "nbformat_minor": 4
}
